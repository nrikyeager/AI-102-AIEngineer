{
  "nbformat": 4,
  "nbformat_minor": 0,
  "metadata": {
    "colab": {
      "provenance": [],
      "collapsed_sections": [],
      "authorship_tag": "ABX9TyP+ka3fS7K6wZRjIAwOoOds",
      "include_colab_link": true
    },
    "kernelspec": {
      "name": "python3",
      "display_name": "Python 3"
    },
    "language_info": {
      "name": "python"
    }
  },
  "cells": [
    {
      "cell_type": "markdown",
      "metadata": {
        "id": "view-in-github",
        "colab_type": "text"
      },
      "source": [
        "<a href=\"https://colab.research.google.com/github/nrikyeager/AI-102-AIEngineer/blob/master/sentiments_analysis.ipynb\" target=\"_parent\"><img src=\"https://colab.research.google.com/assets/colab-badge.svg\" alt=\"Open In Colab\"/></a>"
      ]
    },
    {
      "cell_type": "code",
      "source": [
        "from nltk import re\n",
        "from textblob import TextBlob "
      ],
      "metadata": {
        "id": "DGTuMsJnOdl3"
      },
      "execution_count": 11,
      "outputs": []
    },
    {
      "cell_type": "code",
      "execution_count": null,
      "metadata": {
        "id": "bp10grfBhsxn"
      },
      "outputs": [],
      "source": [
        "\n",
        "questions = {( \"Diriez vous que votre repas s'est bien déroulé ? \"),(\"le cadre vous a t'il plu ?\"),(\"le serveur etait t'il correct?\")}\n",
        "for questions in questions:\n",
        "  answer = input(questions)\n",
        "  review = TextBlob(answer)\n",
        "  x=review.sentiment.polarity\n",
        "  \n",
        "\n",
        "#negative = x<0 and neutral = 0 and  positive x>0  && x<=1\n",
        "if x<0:\n",
        "    print(\"bande de rageux, je n'espère pas vous revoir dans mon restaurant ,tant vos critiques sont infondées\")\n",
        "elif x==0:\n",
        "    print(\"ok merci pour vos retours\")\n",
        "elif x>0 and x<=1:\n",
        "    print(\" Merci pour ce message positif , nous esperons vous revoir dans notre restaurant  \")\n",
        "\n"
      ]
    },
    {
      "cell_type": "code",
      "source": [],
      "metadata": {
        "id": "PPJ5B8ttJddi"
      },
      "execution_count": null,
      "outputs": []
    },
    {
      "cell_type": "code",
      "source": [],
      "metadata": {
        "id": "ytp7XPS1Jd17"
      },
      "execution_count": null,
      "outputs": []
    }
  ]
}